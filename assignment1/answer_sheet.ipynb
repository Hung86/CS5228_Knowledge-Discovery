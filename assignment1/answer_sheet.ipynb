{
 "cells": [
  {
   "cell_type": "markdown",
   "metadata": {},
   "source": [
    "#### Assignment 1  - Your Name Here (Your NUSNET ID Here)\n",
    "This answer sheet contains your answer to questions in Section 1~4. Sentences in <span style=\"color:blue\">blue</span> indicates questions to be answered. \n",
    "\n",
    "For open questions, please organize your answer into \"points\" to ease our grading efforts. For example, an answer to \"What is the most popular item? Explain you answer and describe any assumptions you’ve made.\" should look like:\n",
    "\n",
    "> The most popular item ID is 12345. The reason is that:\n",
    "> - reason 1\n",
    "> - reason 2\n",
    "> \n",
    "> I've made the following assumptions:\n",
    "> - assumption 1\n",
    "> - assumption 2\n",
    "\n",
    "If you wish to type math equations in markdown, follow this link: https://jupyter-notebook.readthedocs.io/en/stable/examples/Notebook/Working%20With%20Markdown%20Cells.html#LaTeX-equations\n",
    "\n",
    "Remember to save this Jupyter notebook as __YourNameInLumiNUS_YourNUSNETID.ipynb__."
   ]
  },
  {
   "cell_type": "markdown",
   "metadata": {},
   "source": [
    "**Import all libraries and load data here**"
   ]
  },
  {
   "cell_type": "code",
   "execution_count": 14,
   "metadata": {},
   "outputs": [
    {
     "name": "stdout",
     "output_type": "stream",
     "text": [
      "initial centroids :  [[ 0  1]\n",
      " [ 0  0]\n",
      " [ 0 -1]]\n",
      "iteration 0, centroids [[ 0.  1.]\n",
      " [ 0.  0.]\n",
      " [ 0. -1.]], WCSS 150.0, labels [0 1 2 0 1 2 0 1 2]\n",
      "iteration 1, centroids [[ 0.  1.]\n",
      " [ 0.  0.]\n",
      " [ 0. -1.]], WCSS 150.0, labels [0 1 2 0 1 2 0 1 2]\n",
      "iteration 2, centroids [[ 0.  1.]\n",
      " [ 0.  0.]\n",
      " [ 0. -1.]], WCSS 150.0, labels [0 1 2 0 1 2 0 1 2]\n",
      "++++++++++++++++++++++++++++++++++++++++++++++++++++++++++++++\n",
      "Heuristic initial centroids :  [[-5.  1.]\n",
      " [ 5. -1.]\n",
      " [ 0.  0.]]\n",
      "iteration 0, centroids [[-5.  0.]\n",
      " [ 5.  0.]\n",
      " [ 0.  0.]], WCSS 6.0, labels [0 0 0 2 2 2 1 1 1]\n",
      "iteration 1, centroids [[-5.  0.]\n",
      " [ 5.  0.]\n",
      " [ 0.  0.]], WCSS 6.0, labels [0 0 0 2 2 2 1 1 1]\n",
      "iteration 2, centroids [[-5.  0.]\n",
      " [ 5.  0.]\n",
      " [ 0.  0.]], WCSS 6.0, labels [0 0 0 2 2 2 1 1 1]\n"
     ]
    },
    {
     "data": {
      "image/png": "[encoded data removed]",
      "text/plain": [
       "<Figure size 1080x360 with 3 Axes>"
      ]
     },
     "metadata": {
      "needs_background": "light"
     },
     "output_type": "display_data"
    }
   ],
   "source": [
    "# This is a code cell\n",
    "# -- Import all libraries and load data in this cell --\n",
    "import pandas as pd\n",
    "import numpy as np\n",
    "import matplotlib.pyplot as plt\n",
    "from sklearn.cluster import KMeans\n",
    "from numpy import linalg as LA\n",
    "%matplotlib inline\n",
    "\n",
    "c=['red','green','cyan','magenta']\n",
    "k_cluster = 3\n",
    "X = np.array([[-5, 1], [-5, 0], [-5, -1],\n",
    "              [0, 1], [0, 0], [0, -1],\n",
    "              [5, 1], [5, 0], [5, -1]])\n",
    "n_X = X.shape[0] \n",
    "point_names = np.array([\"A\",\"B\",\"C\",\"D\",\"E\",\"F\",\"G\",\"H\",\"I\"])\n",
    "\n",
    "centroids = np.array([[0, 1], [0, 0], [0, -1]])\n",
    "print(\"initial centroids : \", centroids)\n",
    "\n",
    "kmeans = None\n",
    "for it in range(3):\n",
    "    kmeans = KMeans(n_clusters=3, init=centroids,n_init=1, max_iter=1).fit(X)\n",
    "    print(\"iteration {}, centroids {}, WCSS {}, labels {}\".format(it, kmeans.cluster_centers_, kmeans.inertia_, kmeans.labels_))\n",
    "    centroid = kmeans.cluster_centers_\n",
    "\n",
    "k_labels = kmeans.labels_\n",
    "fig, (ax1, ax2, ax3) = plt.subplots(1, 3, figsize=(15, 5))\n",
    "ax1.set(xlim=(-8, 8), ylim=(-8, 8))\n",
    "ax1.set_title('Data points')\n",
    "\n",
    "ax2.set(xlim=(-8, 8), ylim=(-8, 8))\n",
    "ax2.set_title('Naive selected inital centroids')\n",
    "\n",
    "ax3.set(xlim=(-8, 8), ylim=(-8, 8))\n",
    "ax3.set_title('Heuristic selected inital centroids')\n",
    "\n",
    "ax1.scatter(X[:,0], X[:,1], color='b')\n",
    "for i, name in enumerate(point_names):\n",
    "    ax1.annotate(name, (X[i][0], X[i][1]), textcoords=\"offset points\", xytext=(10,-5))\n",
    "\n",
    "for i in range(n_X):\n",
    "    ax2.scatter(X[i][0], X[i][1], color=c[k_labels[i]])\n",
    "for i, name in enumerate(point_names):\n",
    "    ax2.annotate(name, (X[i][0], X[i][1]), textcoords=\"offset points\", xytext=(10,-5))\n",
    "    \n",
    "    \n",
    "#### Heuristic selected centroid\n",
    "heuristic_centroids = np.zeros((3,2))\n",
    "heuristic_centroids[0] = [-5, 1]\n",
    "\n",
    "for i in range(1, k_cluster):\n",
    "    head_centroids = heuristic_centroids[0:i,:]\n",
    "    min_dist = np.zeros(n_X)    \n",
    "    for j in range(n_X):\n",
    "        l2_norm = np.zeros(i)\n",
    "        for m in range(i):\n",
    "            l2_norm[m] = LA.norm(X[j]-head_centroids[m])\n",
    "        min_dist[j] = np.amin(l2_norm)\n",
    "    heuristic_centroids[i] = X[np.argmax(min_dist)]\n",
    "\n",
    "print(\"++++++++++++++++++++++++++++++++++++++++++++++++++++++++++++++\")\n",
    "\n",
    "print(\"Heuristic initial centroids : \", heuristic_centroids)\n",
    "            \n",
    "for it in range(3):\n",
    "    kmeans = KMeans(n_clusters=3, init=heuristic_centroids,n_init=1, max_iter=1).fit(X)\n",
    "    print(\"iteration {}, centroids {}, WCSS {}, labels {}\".format(it, kmeans.cluster_centers_, kmeans.inertia_, kmeans.labels_))\n",
    "    heuristic_centroids = kmeans.cluster_centers_\n",
    "\n",
    "k_labels = kmeans.labels_\n",
    "\n",
    "for i in range(n_X):\n",
    "    ax3.scatter(X[i][0], X[i][1], color=c[k_labels[i]])\n",
    "    \n",
    "for j, name in enumerate(point_names):\n",
    "    ax3.annotate(name, (X[j][0], X[j][1]), textcoords=\"offset points\", xytext=(10,-5))\n",
    "    \n"
   ]
  },
  {
   "cell_type": "markdown",
   "metadata": {},
   "source": [
    "### Section 1 - Clustering and Initialization (20 points)"
   ]
  },
  {
   "cell_type": "markdown",
   "metadata": {},
   "source": [
    "<span style=\"color:blue\"> Consider the nine data points (A, B, C, D, E, F, G, H, I) in Fig. 1. Taking the points D, E, and F as the initial cluster centers, apply the K-Means algorithm on the data, with the number of clusters K = 3. At the end of each iteration, list the positions of the cluster centers, as well as the set of points belonging to each cluster. Do you think this clustering result is satisfactory? </span>"
   ]
  },
  {
   "cell_type": "markdown",
   "metadata": {},
   "source": [
    "K-mean = 3 and D(0,1), E(0,0), F(0,-1) are inital cluster centers. The k-mean algorithm running as below :\n",
    "\n",
    "- initial cluster centers :  ((0,1), (0,0), (0,-1))\n",
    "- iteration 0, update cluster centers : ((0,1), (0,0), (0,-1)), clusters: {(A,D,G),(B,E,H),(C,F,I)}\n",
    "- iteration 1, update cluster centers : ((0,1), (0,0), (0,-1)), clusters: {(A,D,G),(B,E,H),(C,F,I)}\n",
    "    \n",
    "===> It looks like the k-mean converged after iteration 0. The clustering result which is {(A,D,G),(B,E,H),(C,F,I)}, is not satisfactory, because intra-cluster distances are not optimal\n"
   ]
  },
  {
   "cell_type": "markdown",
   "metadata": {},
   "source": [
    "<span style=\"color:blue\"> Initialization is important for K-means. Consider the following heuristic method for selecting the initial cluster center positions: <br><br>\n",
    "Choose the first center $c_1$ as the point A.<br>\n",
    "For $k=2,...,K$, set $c_k = \\underset{x\\in X}{\\arg\\max}(\\underset{i=1,...,k-1}{\\min}\\Vert x - c_i \\Vert_2)$, where X is the set of data points.<br><br>\n",
    "Apply this heuristic to the data points in Fig. 1. Show the computed cluster centers for K = 3. Next, run the K-means algorithm with the obtained cluster centers. At the end of each iteration, list the positions of the cluster centers, as well as the set of points belonging to each cluster.\n",
    "</span>"
   ]
  },
  {
   "cell_type": "markdown",
   "metadata": {},
   "source": [
    "K-mean = 3. Choosing A is first cluster center and following heuristic method for selecting the initial cluster centers. We obtain inital cluster centers are  A(-5, 1), I(5,-1), E(0,0). The k-mean algorithm running as below : \n",
    "\n",
    "- initial cluster centers :  ((-5, 1), (5,-1), (0,0))\n",
    "- iteration 0, update cluster centers : ((-5,0), (5,0), (0,0)), clusters: {(A,B,C),(D,E,F),(G,H,I)}\n",
    "- iteration 1, update cluster centers : ((-5,0), (5,0), (0,0)), clusters: {(A,B,C),(D,E,F),(G,H,I)}\n",
    "    \n",
    "===> The k-mean also converged after iteration 0. The clustering result which is {(A,B,C),(D,E,F),(G,H,I)}, is satisfactory, because intra-cluster distances are optimal"
   ]
  },
  {
   "cell_type": "markdown",
   "metadata": {},
   "source": [
    "### Section 2 - Selecting the Number of Clusters (10 points)"
   ]
  },
  {
   "cell_type": "markdown",
   "metadata": {},
   "source": [
    "<span style=\"color:blue\"> Here, we will explore how to select the number of clusters. Using Python 3.6, load the attached data file 'assignment1.data' using the following commands:</span>\n",
    "    \n",
    "<span style=\"color:blue\">import joblib<br>X = joblib.load('assignment1.data')</span>\n",
    "\n",
    "<span style=\"color:blue\">This results in X, which is a 400 by 2 matrix, where each row is a single sample, in 2 dimensions. Apply K-means on these samples with K ranging from 1 to 10. Plot a figure, where the y-axis is the Within Cluster Sum of Squares (WCSS) after convergence, and the x-axis is K from 1 to 10: </span>\n",
    "\n",
    "<span style=\"color:blue\">$WCSS = \\sum_{k=1}^K \\sum_{x \\in C_i} \\Vert x - c_i \\Vert_2^2$</span>\n",
    "\n",
    "<span style=\"color:blue\">Select a value of K that you think is appropriate for clustering this dataset, and explain the reason. </span>"
   ]
  },
  {
   "cell_type": "code",
   "execution_count": 2,
   "metadata": {},
   "outputs": [
    {
     "name": "stdout",
     "output_type": "stream",
     "text": [
      "(400, 2)\n",
      "k=1, WCSS=22800.675548638064, iter_num=2\n",
      "k=2, WCSS=10437.716090329679, iter_num=4\n",
      "k=3, WCSS=3937.5280395580567, iter_num=3\n",
      "k=4, WCSS=517.886091708018, iter_num=2\n",
      "k=5, WCSS=463.4624719171647, iter_num=3\n",
      "k=6, WCSS=414.52318557518396, iter_num=7\n",
      "k=7, WCSS=369.1299656920243, iter_num=9\n",
      "k=8, WCSS=343.0426872462724, iter_num=8\n",
      "k=9, WCSS=297.1397414721983, iter_num=8\n",
      "k=10, WCSS=270.50465714180785, iter_num=15\n"
     ]
    },
    {
     "data": {
      "image/png": "[encoded data removed]",
      "text/plain": [
       "<Figure size 432x576 with 1 Axes>"
      ]
     },
     "metadata": {
      "needs_background": "light"
     },
     "output_type": "display_data"
    }
   ],
   "source": [
    "# This is a code cell\n",
    "# -- Your code for running clustering and plotting the figure goes here.\n",
    "import joblib\n",
    "X = joblib.load('assignment1.data')\n",
    "print(X.shape)\n",
    "kmean_wcss = np.zeros((10,2), dtype='float')\n",
    "kmean_num = 10\n",
    "\n",
    "for k in range(1, kmean_num+1):\n",
    "    k_th = KMeans(n_clusters=k, random_state=0).fit(X)\n",
    "    print(\"k={}, WCSS={}, iter_num={}\".format(k, k_th.inertia_,  k_th.n_iter_))\n",
    "    kmean_wcss[k-1]= [k, k_th.inertia_]\n",
    "\n",
    "plt.figure(figsize=(6, 8))\n",
    "plt.plot(kmean_wcss[:,0], kmean_wcss[:,1])\n",
    "plt.xlabel('Kmean Number')\n",
    "plt.ylabel('WCSS')\n",
    "plt.show()\n"
   ]
  },
  {
   "cell_type": "markdown",
   "metadata": {},
   "source": [
    "Choosing K=4 is appropriate for clustering the dataset. Because base on the plot, the WCSS figure drops sharply from k = 1 to k = 4 and goes down gradually from k=4 to k=10"
   ]
  },
  {
   "cell_type": "markdown",
   "metadata": {},
   "source": [
    "### Section 3 - Data Cleaning and Exploration (20 points)"
   ]
  },
  {
   "cell_type": "markdown",
   "metadata": {},
   "source": [
    "<span style=\"color:blue\"> 1) Before continuing, let us examine the dataset for “dirty” records to do some data cleaning. Remove the records with negative values of the Quantity variable, and the records with NaN values of the CustomerID variable. Report how many records were removed in total. </span>"
   ]
  },
  {
   "cell_type": "markdown",
   "metadata": {},
   "source": [
    "To purify the data, we do two removing steps :\n",
    "\n",
    "- Step 1: Finding records contain NaN values of the CustomerID variable in the data, then 135080 records are found and remove them from the data\n",
    "- Step 2: Finding records contain negative values of the Quantity variable in the modified data in step 1, then 8905 records are found and remove them from the modified data\n",
    "\n",
    "Totally, 143985 records are removed from the data for data cleaning"
   ]
  },
  {
   "cell_type": "code",
   "execution_count": 10,
   "metadata": {},
   "outputs": [
    {
     "name": "stdout",
     "output_type": "stream",
     "text": [
      "(541909, 7)\n",
      "Index(['InvoiceNo', 'StockCode', 'Description', 'Quantity', 'InvoiceDate',\n",
      "       'UnitPrice', 'CustomerID'],\n",
      "      dtype='object')\n",
      "135080 NaN in CustomerID col are removed from orginal data\n",
      "(406829, 7)\n",
      "8905 negative in Quantitycol are removed from the cleaned data 1\n",
      "(397924, 7)\n",
      "143985 rows are removed from original data\n"
     ]
    }
   ],
   "source": [
    "# This is a code cell\n",
    "# -- Your code for removing dirty records goes here --\n",
    "origin_data = pd.read_csv('record.csv')\n",
    "print(origin_data.shape)\n",
    "print(origin_data.keys())\n",
    "\n",
    "nan_customer_id = origin_data[origin_data['CustomerID'].isnull()].index\n",
    "nan_customer_id_len = nan_customer_id.shape[0]\n",
    "clean_data1 = origin_data.drop(nan_customer_id, axis=0)\n",
    "print(\"{} NaN in CustomerID col are removed from orginal data\".format(nan_customer_id_len))\n",
    "print(clean_data1.shape)\n",
    "\n",
    "neg_quantity = clean_data1[clean_data1['Quantity'] < 0].index\n",
    "neg_quantity_len = neg_quantity.shape[0]\n",
    "print(\"{} negative in Quantitycol are removed from the cleaned data 1\".format(neg_quantity_len))\n",
    "\n",
    "clean_data2 = clean_data1.drop(neg_quantity, axis=0)\n",
    "print(clean_data2.shape)\n",
    "\n",
    "print(\"{} rows are removed from original data\".format(nan_customer_id_len + neg_quantity_len))\n"
   ]
  },
  {
   "cell_type": "markdown",
   "metadata": {},
   "source": [
    "<span style=\"color:blue\"> 2)~9) Please provide the answers to the questions listed in the table. </span>"
   ]
  },
  {
   "cell_type": "code",
   "execution_count": 15,
   "metadata": {},
   "outputs": [
    {
     "name": "stdout",
     "output_type": "stream",
     "text": [
      "Starting date of the dataset :  2010-12-01 08:26:00\n",
      "Starting date of the dataset :  2011-12-09 12:50:00\n",
      "Number of customers : 4339\n",
      "Number of transactions:  18536\n",
      "Number of different kind of items:  3665\n",
      "Number of transactions customer ID 17850 have made:  34\n",
      "\n",
      "\n",
      "Which customer (ID) have made the most transactions: \n",
      "             InvoiceNo  StockCode  Description  Quantity  InvoiceDate  \\\n",
      "CustomerID                                                             \n",
      "12748.0           210       1768         1778        58          211   \n",
      "\n",
      "            UnitPrice  \n",
      "CustomerID             \n",
      "12748.0            99  \n",
      "\n",
      "\n",
      "What is the item ID (i.e. StockCode) of the best-seller?We define “best-seller” as the item with the highest sales volume:\n",
      "            InvoiceNo  Description  Quantity  InvoiceDate  UnitPrice  \\\n",
      "StockCode                                                             \n",
      "85123A          2035         2035      2035         2035       2035   \n",
      "\n",
      "           CustomerID  \n",
      "StockCode              \n",
      "85123A           2035  \n"
     ]
    }
   ],
   "source": [
    "# This is a code cell\n",
    "# -- (Optional) Your code for filling in the table goes here. --\n",
    "customerid_groupby = clean_data2.groupby('CustomerID')\n",
    "invoiceno_groupby = clean_data2.groupby('InvoiceNo')\n",
    "stockcode_groupby = clean_data2.groupby('StockCode').count()\n",
    "\n",
    "customerid_nunique = customerid_groupby.nunique()\n",
    "max_trans_val = customerid_nunique.InvoiceNo.max()\n",
    "customerid_max_trans = customerid_nunique[customerid_nunique.InvoiceNo == max_trans_val]\n",
    "\n",
    "\n",
    "max_sale_vol = stockcode_groupby.InvoiceNo.max()\n",
    "stockcode_max_sale_vol = stockcode_groupby[stockcode_groupby.InvoiceNo == max_sale_vol]\n",
    "\n",
    "print('Starting date of the dataset : ', clean_data2.InvoiceDate.min())\n",
    "print('Starting date of the dataset : ', clean_data2.InvoiceDate.max())\n",
    "print('Number of customers :', len(customerid_groupby))\n",
    "print('Number of transactions: ', len(invoiceno_groupby))\n",
    "print('Number of different kind of items: ',len(stockcode_groupby))\n",
    "print('Number of transactions customer ID 17850 have made: ', customerid_nunique.loc[17850].InvoiceNo)\n",
    "print('\\n')\n",
    "print('Which customer (ID) have made the most transactions: \\n', customerid_max_trans)\n",
    "print('\\n')\n",
    "print('What is the item ID (i.e. StockCode) of the best-seller?\\\n",
    "We define “best-seller” as the item with the highest sales volume:\\n', stockcode_max_sale_vol)\n"
   ]
  },
  {
   "cell_type": "markdown",
   "metadata": {},
   "source": [
    "This is a markdown cell. Please fill in your answer for (2)~(9).\n",
    "\n",
    "| No. | Question                                                                                                   | Answer       |\n",
    "|-----|------------------------------------------------------------------------------------------------------------|--------------|\n",
    "| 2)  | Starting date of the dataset?                                                                              | _2010-12-01 08:26:00_ |\n",
    "| 3)  | Ending date of the dataset?                                                                                | _2011-12-09 12:50:00_ |\n",
    "| 4)  | Number of customers?                                                                                       | _4339_ |\n",
    "| 5)  | Number of transactions?                                                                                    | _18536_ |\n",
    "| 6)  | Number of different kind of items?                                                                         | _3665_ |\n",
    "| 7)  | Number of transactions customer ID 17850 has made?                                                         | _34_ |\n",
    "| 8)  | Which customer (ID) has made the most transactions?                                                        | _12748.0_ |\n",
    "| 9)  | What is the item ID (i.e. StockCode) of the best-seller? We define \"best-seller\" as the item with the highest sales volume. | _85123A_ |"
   ]
  },
  {
   "cell_type": "markdown",
   "metadata": {},
   "source": [
    "<span style=\"color:blue\"> 10) Next, let us get some general understanding about the transactions. Please make a histogram of the number of unique items per transaction (as described below) and describe one insight that you can observe from the plot.  \n",
    "(Note: You can plot this histogram by running matplotlib.hist() with 200 bins on the sequence of values $n_1, …, n_N$, where $n_i$ is the number of unique items in transaction $i$. This produces a histogram with “number of unique items in transaction” in the x-axis, and “count” in the y-axis, i.e. each bar counts how many transactions fall into the corresponding bucket. It is sufficient to comment on the general shape of the curve and what it implies about the data; it’s fine if the insight does not seem especially interesting.)\n",
    "</span>"
   ]
  },
  {
   "cell_type": "code",
   "execution_count": 13,
   "metadata": {},
   "outputs": [
    {
     "name": "stdout",
     "output_type": "stream",
     "text": [
      "unique_items_per_trans :  [ 7  2 12 ... 21  4 15]\n"
     ]
    },
    {
     "data": {
      "image/png": "[encoded data removed]",
      "text/plain": [
       "<Figure size 720x576 with 1 Axes>"
      ]
     },
     "metadata": {
      "needs_background": "light"
     },
     "output_type": "display_data"
    }
   ],
   "source": [
    "# This is a code cell\n",
    "# --- Your code for generating the histogram goes here ---\n",
    "invoiceno_nunique = invoiceno_groupby.nunique()\n",
    "#number of unique items per transaction list\n",
    "unique_items_per_trans= invoiceno_nunique.loc[invoiceno_nunique.index.values]['StockCode']\n",
    "y_trans_count = unique_items_per_trans.values\n",
    "print (\"unique_items_per_trans : \", y_trans_count)\n",
    "\n",
    "num_bins = 200\n",
    "plt.figure(figsize=[10,8])\n",
    "n, bins, patches = plt.hist(y_trans_count, num_bins, facecolor='blue', alpha=0.5)\n",
    "plt.xlim(0, num_bins)\n",
    "plt.xlabel('Number of Unique Items',fontsize=15)\n",
    "plt.ylabel('Number of Transactions',fontsize=15)\n",
    "plt.title('Number of Unique Items per Transaction Histogram',fontsize=15)\n",
    "plt.show()"
   ]
  },
  {
   "cell_type": "markdown",
   "metadata": {},
   "source": [
    "According to the histogram, it is easy to see that the number of transactions and the number of unique items are inverse ratio. Whereby, the curve which connects all bin tops, is similar to curve of a reciprocal function. Most of transactions only contain some unique items. Specifically, transactions whose number of unique items are less than 25, appear often. In the opposite direction, less transactions order 100 unique items onward"
   ]
  },
  {
   "cell_type": "markdown",
   "metadata": {},
   "source": [
    "#### Section 4 - Mining Association Rules"
   ]
  },
  {
   "cell_type": "markdown",
   "metadata": {},
   "source": [
    "<span style=\"color:blue\"> 1) Will we complete the counting before the sun burns out (the sun has another $ 5 \\times 10^9 < 2^{33} $ years to burn)? </span>"
   ]
  },
  {
   "cell_type": "markdown",
   "metadata": {},
   "source": [
    "There are 3665 unique items in transactions, if we use brute-force to find association rules, we need to go through $2^{3665}$ itemsets, so total time taken is $\\frac{2^{3665}}{2^{36}} = 2^{3629}$ seconds, is approximate to $\\frac{2^{3629}}{2^{25}} = 2^{3604}$ years\n",
    "\n",
    "==> The time taken is so huge, we will complete the counting after at least $\\frac{2^{3604}}{2^{23}} = 2^{3581}$ Suns burn out"
   ]
  },
  {
   "cell_type": "markdown",
   "metadata": {},
   "source": [
    "<span style=\"color:blue\"> 2) Run efficient-apriori in python with min_support=0.025, min_confidence=0.2, max_length=4. Write down the number of rules found and the rule with the highest lift. </span>"
   ]
  },
  {
   "cell_type": "code",
   "execution_count": 20,
   "metadata": {},
   "outputs": [
    {
     "name": "stdout",
     "output_type": "stream",
     "text": [
      "duration : 16.497943878173828\n",
      "rule length : 22\n",
      "{85099B} -> {23203} (conf: 0.292, supp: 0.025, lift: 5.020, conv: 1.331)\n",
      "{23203} -> {85099B} (conf: 0.433, supp: 0.025, lift: 5.020, conv: 1.612)\n",
      "{22382} -> {20725} (conf: 0.473, supp: 0.025, lift: 6.797, conv: 1.764)\n",
      "{20725} -> {22382} (conf: 0.362, supp: 0.025, lift: 6.797, conv: 1.485)\n",
      "{20727} -> {20725} (conf: 0.491, supp: 0.028, lift: 7.067, conv: 1.830)\n",
      "{20725} -> {20727} (conf: 0.401, supp: 0.028, lift: 7.067, conv: 1.575)\n",
      "{22383} -> {20725} (conf: 0.498, supp: 0.028, lift: 7.156, conv: 1.852)\n",
      "{20725} -> {22383} (conf: 0.403, supp: 0.028, lift: 7.156, conv: 1.580)\n",
      "{85099B} -> {22386} (conf: 0.341, supp: 0.029, lift: 7.262, conv: 1.447)\n",
      "{22386} -> {85099B} (conf: 0.627, supp: 0.029, lift: 7.262, conv: 2.449)\n",
      "{22383} -> {20727} (conf: 0.446, supp: 0.025, lift: 7.855, conv: 1.702)\n",
      "{20727} -> {22383} (conf: 0.442, supp: 0.025, lift: 7.855, conv: 1.691)\n",
      "{22384} -> {20725} (conf: 0.562, supp: 0.028, lift: 8.078, conv: 2.123)\n",
      "{20725} -> {22384} (conf: 0.406, supp: 0.028, lift: 8.078, conv: 1.598)\n",
      "{22384} -> {20727} (conf: 0.498, supp: 0.025, lift: 8.781, conv: 1.880)\n",
      "{20727} -> {22384} (conf: 0.441, supp: 0.025, lift: 8.781, conv: 1.699)\n",
      "{82494L} -> {82482} (conf: 0.577, supp: 0.025, lift: 12.211, conv: 2.253)\n",
      "{82482} -> {82494L} (conf: 0.534, supp: 0.025, lift: 12.211, conv: 2.053)\n",
      "{22727} -> {22726} (conf: 0.604, supp: 0.029, lift: 14.198, conv: 2.420)\n",
      "{22726} -> {22727} (conf: 0.672, supp: 0.029, lift: 14.198, conv: 2.902)\n",
      "{22699} -> {22697} (conf: 0.691, supp: 0.029, lift: 18.534, conv: 3.115)\n",
      "{22697} -> {22699} (conf: 0.783, supp: 0.029, lift: 18.534, conv: 4.412)\n"
     ]
    }
   ],
   "source": [
    "# This is a code cell\n",
    "# --- Your code for apriori algorithm goes here ---\n",
    "import time\n",
    "from efficient_apriori import apriori\n",
    "invoiceno_stockcode_groupby = clean_data2.groupby(['InvoiceNo','StockCode']).count().index.values\n",
    "invoiceno_stockcode_dic = {}\n",
    "for item in invoiceno_stockcode_groupby:\n",
    "    if item[0] in invoiceno_stockcode_dic:\n",
    "        invoiceno_stockcode_dic[item[0]].append(item[1])\n",
    "    else:\n",
    "        invoiceno_stockcode_dic[item[0]]=[item[1]]\n",
    "        \n",
    "transactions = list(invoiceno_stockcode_dic.values())\n",
    "t1 = time.time()\n",
    "_ , rules = apriori(transactions, min_support=0.025, min_confidence=0.2, max_length=4)\n",
    "t2 = time.time()\n",
    "print('duration : {}'.format(t2-t1))\n",
    "print('rule length :', len(rules))\n",
    "# Print out all rules are sorted by lift\n",
    "for rule in sorted(rules, key=lambda rule: rule.lift):\n",
    "    print(rule)  # Prints the rule and its confidence, support, lift, ..."
   ]
  },
  {
   "cell_type": "markdown",
   "metadata": {},
   "source": [
    "Run efficient-apriori in python with **min_support=0.025, min_confidence=0.2, max_length=4**, we obtain 22 association rules from frequent 2-itemsets. From the result, the highest lift is 18.534 :\n",
    "- {22699} -> {22697} (conf: 0.691, supp: 0.029, lift: 18.534, conv: 3.115)\n",
    "- {22697} -> {22699} (conf: 0.783, supp: 0.029, lift: 18.534, conv: 4.412)"
   ]
  },
  {
   "cell_type": "markdown",
   "metadata": {},
   "source": [
    "<span style=\"color:blue\"> 3) Run efficient-apriori in python with min_support=0.02, min_confidence=0.2, max_length=4. Write down the number of rules found and the rule with the highest lift. </span>"
   ]
  },
  {
   "cell_type": "code",
   "execution_count": 17,
   "metadata": {},
   "outputs": [
    {
     "name": "stdout",
     "output_type": "stream",
     "text": [
      "duration : 39.516260385513306\n",
      "rule length : 88\n",
      "{85099B} -> {20725} (conf: 0.266, supp: 0.023, lift: 3.820, conv: 1.267)\n",
      "{20725} -> {85099B} (conf: 0.330, supp: 0.023, lift: 3.820, conv: 1.363)\n",
      "{85099B} -> {23203} (conf: 0.292, supp: 0.025, lift: 5.020, conv: 1.331)\n",
      "{23203} -> {85099B} (conf: 0.433, supp: 0.025, lift: 5.020, conv: 1.612)\n",
      "{47566} -> {23298} (conf: 0.282, supp: 0.021, lift: 5.178, conv: 1.317)\n",
      "{23298} -> {47566} (conf: 0.386, supp: 0.021, lift: 5.178, conv: 1.506)\n",
      "{85099B} -> {22411} (conf: 0.247, supp: 0.021, lift: 5.807, conv: 1.272)\n",
      "{22411} -> {85099B} (conf: 0.501, supp: 0.021, lift: 5.807, conv: 1.832)\n",
      "{22699} -> {22423} (conf: 0.536, supp: 0.023, lift: 5.835, conv: 1.959)\n",
      "{22423} -> {22699} (conf: 0.246, supp: 0.023, lift: 5.835, conv: 1.271)\n",
      "{22697} -> {22423} (conf: 0.541, supp: 0.020, lift: 5.888, conv: 1.979)\n",
      "{22423} -> {22697} (conf: 0.219, supp: 0.020, lift: 5.888, conv: 1.233)\n",
      "{23209} -> {20725} (conf: 0.417, supp: 0.023, lift: 5.989, conv: 1.595)\n",
      "{20725} -> {23209} (conf: 0.325, supp: 0.023, lift: 5.989, conv: 1.401)\n",
      "{85123A} -> {21733} (conf: 0.231, supp: 0.025, lift: 6.307, conv: 1.253)\n",
      "{21733} -> {85123A} (conf: 0.673, supp: 0.025, lift: 6.307, conv: 2.732)\n",
      "{23206} -> {20725} (conf: 0.449, supp: 0.021, lift: 6.459, conv: 1.689)\n",
      "{20725} -> {23206} (conf: 0.302, supp: 0.021, lift: 6.459, conv: 1.365)\n",
      "{85099B} -> {21931} (conf: 0.271, supp: 0.023, lift: 6.496, conv: 1.315)\n",
      "{21931} -> {85099B} (conf: 0.561, supp: 0.023, lift: 6.496, conv: 2.080)\n",
      "{22382} -> {20725} (conf: 0.473, supp: 0.025, lift: 6.797, conv: 1.764)\n",
      "{20725} -> {22382} (conf: 0.362, supp: 0.025, lift: 6.797, conv: 1.485)\n",
      "{20728} -> {20725} (conf: 0.475, supp: 0.025, lift: 6.833, conv: 1.773)\n",
      "{20725} -> {20728} (conf: 0.356, supp: 0.025, lift: 6.833, conv: 1.472)\n",
      "{20727} -> {20725} (conf: 0.491, supp: 0.028, lift: 7.067, conv: 1.830)\n",
      "{20725} -> {20727} (conf: 0.401, supp: 0.028, lift: 7.067, conv: 1.575)\n",
      "{22383} -> {20725} (conf: 0.498, supp: 0.028, lift: 7.156, conv: 1.852)\n",
      "{20725} -> {22383} (conf: 0.403, supp: 0.028, lift: 7.156, conv: 1.580)\n",
      "{85099B} -> {22386} (conf: 0.341, supp: 0.029, lift: 7.262, conv: 1.447)\n",
      "{22386} -> {85099B} (conf: 0.627, supp: 0.029, lift: 7.262, conv: 2.449)\n",
      "{85099F} -> {85099B} (conf: 0.633, supp: 0.022, lift: 7.334, conv: 2.490)\n",
      "{85099B} -> {85099F} (conf: 0.259, supp: 0.022, lift: 7.334, conv: 1.301)\n",
      "{22382} -> {20727} (conf: 0.423, supp: 0.023, lift: 7.455, conv: 1.635)\n",
      "{20727} -> {22382} (conf: 0.397, supp: 0.023, lift: 7.455, conv: 1.571)\n",
      "{23209} -> {23203} (conf: 0.440, supp: 0.024, lift: 7.558, conv: 1.683)\n",
      "{23203} -> {23209} (conf: 0.410, supp: 0.024, lift: 7.558, conv: 1.603)\n",
      "{20726} -> {20725} (conf: 0.528, supp: 0.023, lift: 7.593, conv: 1.972)\n",
      "{20725} -> {20726} (conf: 0.336, supp: 0.023, lift: 7.593, conv: 1.439)\n",
      "{22382} -> {20728} (conf: 0.396, supp: 0.021, lift: 7.594, conv: 1.569)\n",
      "{20728} -> {22382} (conf: 0.405, supp: 0.021, lift: 7.594, conv: 1.590)\n",
      "{22384} -> {22383} (conf: 0.430, supp: 0.022, lift: 7.636, conv: 1.655)\n",
      "{22383} -> {22384} (conf: 0.384, supp: 0.022, lift: 7.636, conv: 1.541)\n",
      "{20728} -> {20727} (conf: 0.436, supp: 0.023, lift: 7.679, conv: 1.672)\n",
      "{20727} -> {20728} (conf: 0.400, supp: 0.023, lift: 7.679, conv: 1.580)\n",
      "{22383} -> {20727} (conf: 0.446, supp: 0.025, lift: 7.855, conv: 1.702)\n",
      "{20727} -> {22383} (conf: 0.442, supp: 0.025, lift: 7.855, conv: 1.691)\n",
      "{22383} -> {22382} (conf: 0.429, supp: 0.024, lift: 8.040, conv: 1.657)\n",
      "{22382} -> {22383} (conf: 0.452, supp: 0.024, lift: 8.040, conv: 1.723)\n",
      "{22384} -> {20725} (conf: 0.562, supp: 0.028, lift: 8.078, conv: 2.123)\n",
      "{20725} -> {22384} (conf: 0.406, supp: 0.028, lift: 8.078, conv: 1.598)\n",
      "{23209} -> {23206} (conf: 0.378, supp: 0.021, lift: 8.085, conv: 1.532)\n",
      "{23206} -> {23209} (conf: 0.439, supp: 0.021, lift: 8.085, conv: 1.685)\n",
      "{22383} -> {20728} (conf: 0.433, supp: 0.024, lift: 8.316, conv: 1.673)\n",
      "{20728} -> {22383} (conf: 0.468, supp: 0.024, lift: 8.316, conv: 1.774)\n",
      "{22384} -> {20727} (conf: 0.498, supp: 0.025, lift: 8.781, conv: 1.880)\n",
      "{20727} -> {22384} (conf: 0.441, supp: 0.025, lift: 8.781, conv: 1.699)\n",
      "{22384} -> {20728} (conf: 0.459, supp: 0.023, lift: 8.801, conv: 1.751)\n",
      "{20728} -> {22384} (conf: 0.442, supp: 0.023, lift: 8.801, conv: 1.702)\n",
      "{22382} -> {20726} (conf: 0.410, supp: 0.022, lift: 9.266, conv: 1.620)\n",
      "{20726} -> {22382} (conf: 0.494, supp: 0.022, lift: 9.266, conv: 1.871)\n",
      "{23203} -> {23202} (conf: 0.396, supp: 0.023, lift: 9.515, conv: 1.587)\n",
      "{23202} -> {23203} (conf: 0.554, supp: 0.023, lift: 9.515, conv: 2.113)\n",
      "{22470} -> {22469} (conf: 0.508, supp: 0.022, lift: 9.801, conv: 1.928)\n",
      "{22469} -> {22470} (conf: 0.424, supp: 0.022, lift: 9.801, conv: 1.660)\n",
      "{82494L} -> {82482} (conf: 0.577, supp: 0.025, lift: 12.211, conv: 2.253)\n",
      "{82482} -> {82494L} (conf: 0.534, supp: 0.025, lift: 12.211, conv: 2.053)\n",
      "{22910} -> {22086} (conf: 0.647, supp: 0.024, lift: 12.239, conv: 2.684)\n",
      "{22086} -> {22910} (conf: 0.460, supp: 0.024, lift: 12.239, conv: 1.783)\n",
      "{22728} -> {22727} (conf: 0.646, supp: 0.021, lift: 13.654, conv: 2.691)\n",
      "{22727} -> {22728} (conf: 0.452, supp: 0.021, lift: 13.654, conv: 1.763)\n",
      "{22727} -> {22726} (conf: 0.604, supp: 0.029, lift: 14.198, conv: 2.420)\n",
      "{22726} -> {22727} (conf: 0.672, supp: 0.029, lift: 14.198, conv: 2.902)\n",
      "{23301} -> {23300} (conf: 0.612, supp: 0.025, lift: 17.877, conv: 2.492)\n",
      "{23300} -> {23301} (conf: 0.729, supp: 0.025, lift: 17.877, conv: 3.541)\n",
      "{22630} -> {22629} (conf: 0.688, supp: 0.023, lift: 18.123, conv: 3.086)\n",
      "{22629} -> {22630} (conf: 0.602, supp: 0.023, lift: 18.123, conv: 2.431)\n",
      "{22699} -> {22697} (conf: 0.691, supp: 0.029, lift: 18.534, conv: 3.115)\n",
      "{22697} -> {22699} (conf: 0.783, supp: 0.029, lift: 18.534, conv: 4.412)\n",
      "{22699} -> {22698} (conf: 0.557, supp: 0.024, lift: 18.564, conv: 2.189)\n",
      "{22698} -> {22699} (conf: 0.784, supp: 0.024, lift: 18.564, conv: 4.438)\n",
      "{22697, 22698} -> {22699} (conf: 0.848, supp: 0.021, lift: 20.071, conv: 6.294)\n",
      "{22699} -> {22697, 22698} (conf: 0.498, supp: 0.021, lift: 20.071, conv: 1.943)\n",
      "{22698} -> {22697} (conf: 0.827, supp: 0.025, lift: 22.193, conv: 5.576)\n",
      "{22697} -> {22698} (conf: 0.666, supp: 0.025, lift: 22.193, conv: 2.902)\n",
      "{22698, 22699} -> {22697} (conf: 0.894, supp: 0.021, lift: 23.995, conv: 9.125)\n",
      "{22697} -> {22698, 22699} (conf: 0.564, supp: 0.021, lift: 23.995, conv: 2.242)\n",
      "{22697, 22699} -> {22698} (conf: 0.721, supp: 0.021, lift: 24.033, conv: 3.475)\n",
      "{22698} -> {22697, 22699} (conf: 0.701, supp: 0.021, lift: 24.033, conv: 3.252)\n"
     ]
    }
   ],
   "source": [
    "# This is a code cell\n",
    "# --- Your code for apriori algorithm goes here ---\n",
    "t1 = time.time()\n",
    "_ , rules = apriori(transactions, min_support=0.02, min_confidence=0.2,max_length=4)\n",
    "t2 = time.time()\n",
    "print('duration : {}'.format(t2-t1))\n",
    "print('rule length :', len(rules))\n",
    "# Print out all rules are sorted by lift\n",
    "for rule in sorted(rules, key=lambda rule: rule.lift):\n",
    "    print(rule)  # Prints the rule and its confidence, support, lift, ..."
   ]
  },
  {
   "cell_type": "markdown",
   "metadata": {},
   "source": [
    "Run efficient-apriori in python with **min_support=0.02, min_confidence=0.2, max_length=4**, we get 88 association rules from frequent 2-itemsets and frequent 3-itemsets. The highest lift is 24.033 :\n",
    "- {22697, 22699} -> {22698} (conf: 0.721, supp: 0.021, lift: 24.033, conv: 3.475)\n",
    "- {22698} -> {22697, 22699} (conf: 0.701, supp: 0.021, lift: 24.033, conv: 3.252)"
   ]
  },
  {
   "cell_type": "markdown",
   "metadata": {},
   "source": [
    "<span style=\"color:blue\"> 4) Run efficient-apriori in python with min_support=0.025, min_confidence=0.4, max_length=4. Write down the number of rules found and the rule with the highest lift. </span>"
   ]
  },
  {
   "cell_type": "code",
   "execution_count": 21,
   "metadata": {},
   "outputs": [
    {
     "name": "stdout",
     "output_type": "stream",
     "text": [
      "duration : 16.87396502494812\n",
      "rule length : 19\n",
      "{23203} -> {85099B} (conf: 0.433, supp: 0.025, lift: 5.020, conv: 1.612)\n",
      "{22382} -> {20725} (conf: 0.473, supp: 0.025, lift: 6.797, conv: 1.764)\n",
      "{20727} -> {20725} (conf: 0.491, supp: 0.028, lift: 7.067, conv: 1.830)\n",
      "{20725} -> {20727} (conf: 0.401, supp: 0.028, lift: 7.067, conv: 1.575)\n",
      "{22383} -> {20725} (conf: 0.498, supp: 0.028, lift: 7.156, conv: 1.852)\n",
      "{20725} -> {22383} (conf: 0.403, supp: 0.028, lift: 7.156, conv: 1.580)\n",
      "{22386} -> {85099B} (conf: 0.627, supp: 0.029, lift: 7.262, conv: 2.449)\n",
      "{22383} -> {20727} (conf: 0.446, supp: 0.025, lift: 7.855, conv: 1.702)\n",
      "{20727} -> {22383} (conf: 0.442, supp: 0.025, lift: 7.855, conv: 1.691)\n",
      "{22384} -> {20725} (conf: 0.562, supp: 0.028, lift: 8.078, conv: 2.123)\n",
      "{20725} -> {22384} (conf: 0.406, supp: 0.028, lift: 8.078, conv: 1.598)\n",
      "{22384} -> {20727} (conf: 0.498, supp: 0.025, lift: 8.781, conv: 1.880)\n",
      "{20727} -> {22384} (conf: 0.441, supp: 0.025, lift: 8.781, conv: 1.699)\n",
      "{82494L} -> {82482} (conf: 0.577, supp: 0.025, lift: 12.211, conv: 2.253)\n",
      "{82482} -> {82494L} (conf: 0.534, supp: 0.025, lift: 12.211, conv: 2.053)\n",
      "{22727} -> {22726} (conf: 0.604, supp: 0.029, lift: 14.198, conv: 2.420)\n",
      "{22726} -> {22727} (conf: 0.672, supp: 0.029, lift: 14.198, conv: 2.902)\n",
      "{22699} -> {22697} (conf: 0.691, supp: 0.029, lift: 18.534, conv: 3.115)\n",
      "{22697} -> {22699} (conf: 0.783, supp: 0.029, lift: 18.534, conv: 4.412)\n"
     ]
    }
   ],
   "source": [
    "# This is a code cell\n",
    "# --- Your code for apriori algorithm goes here ---\n",
    "t1 = time.time()\n",
    "_ , rules = apriori(transactions, min_support=0.025, min_confidence=0.4,max_length=4)\n",
    "t2 = time.time()\n",
    "print('duration : {}'.format(t2-t1))\n",
    "print('rule length :', len(rules))\n",
    "# Print out all rules are sorted by lift\n",
    "for rule in sorted(rules, key=lambda rule: rule.lift):\n",
    "    print(rule)  # Prints the rule and its confidence, support, lift, ..."
   ]
  },
  {
   "cell_type": "markdown",
   "metadata": {},
   "source": [
    "Run efficient-apriori in python with **min_support=0.025, min_confidence=0.4, max_length=4**, we obtain 19 association rules from frequent 2-itemsets and the highest lift is 18.534 :\n",
    "- {22699} -> {22697} (conf: 0.691, supp: 0.029, lift: 18.534, conv: 3.115)\n",
    "- {22697} -> {22699} (conf: 0.783, supp: 0.029, lift: 18.534, conv: 4.412)"
   ]
  },
  {
   "cell_type": "markdown",
   "metadata": {},
   "source": [
    "<span style=\"color:blue\"> 5) Compare the first two cases. How do they differ in the time taken for the algorithm to run, the number of rules found, and the lift of the highest lift rule? Briefly explain why each of these findings occur, based on the effects of changing min_support.  </span>"
   ]
  },
  {
   "cell_type": "markdown",
   "metadata": {},
   "source": [
    "The below table shows time taken, number of rules, highest lift in between case 4-2 and 4-3:\n",
    "\n",
    "|              | Case 4-2  | Case 4-3 |\n",
    "|--------------|-----------|----------|\n",
    "|**Time taken(s)** | 16.497    | 39.516   |\n",
    "|**Number of rules**  |   22      | 88       |\n",
    "|**Highest lift**    | 18.534    | 24.033   |\n",
    "\n",
    "From the table, it is easy to see:\n",
    " - Case 4-3 takes time longer for the algorithm running than case 4-2\n",
    " - Case 4-3 has more association rules than case 4-2\n",
    " - Case 4-3 returns the highest lift is greater than the highest lift of case 4-2\n",
    " \n",
    " \n",
    "These findings occur, because min_support in 4-3 is less than min_support in 4-2 :\n",
    "- With smaller min_support, number of frequent itemsets in 4-3 is larger at level k-1, it leads Apriori algorithm traverses more nodes at level k on the itemset lattice. Hence, 4-3 has time taken longer than 4-2\n",
    "- More frequent k-items are found in 4-3, more association rules can be generated on the same min_confidence \n",
    "- The lowest support of association rules in 4-3 is less than the lowest support in 4-2, so it is high probability that the highest lift in 4-3 is greater than the highest lift in 4-2"
   ]
  },
  {
   "cell_type": "markdown",
   "metadata": {},
   "source": [
    "<span style=\"color:blue\"> 6) Compare the first and third case. How do they differ in the number of rules found? Briefly explain why this finding occurs, based on the effects of changing min_confidence. </span>"
   ]
  },
  {
   "cell_type": "markdown",
   "metadata": {},
   "source": [
    "The below table shows time taken, number of rules, highest lift in between case 4-2 and 4-4:\n",
    "\n",
    "|              | Case 4-2  | Case 4-4 |\n",
    "|--------------|-----------|----------|\n",
    "|**Time taken(s)** | 16.497    | 16.873   |\n",
    "|**Number of rules**  |   22      | 19       |\n",
    "|**Highest lift**    | 18.534    | 18.534   |\n",
    "\n",
    "It is easy to see that time taken and highest lift are same in two cases 4-2 and 4-4 except number of rules that 4-2 returns more associatin rules than 4-4\n",
    "\n",
    "These findings occur bcause min_confidence in 4-4 is greater than min_confidence in 4-2:\n",
    "- min_support are same in 4-4 and 4-2, number of frequent itemsets in 4-4 is as same as number of frequent itemsets in 4-2 at level k-1, so the apriori algorithm running on both cases have to traverse same node sets at level k on the itemset lattice. That why the time taken are similar for 4-2 and 4-4\n",
    "- With min_confidence 4-4 is higher, more association rules in 4-4 are dropped at rule generation stage of the apriori algorithm. For this reason, number of rules in 4-4 is only less than or equals number of rules in 4-2\n",
    "- The association rules with the highest lift in 4-2, have highest confidence, so these rules are not affected when min_confidence is increased from 0.2 to 0.4. Hence, the highest lift in 4-2 and 4-4 are same\n",
    "\n"
   ]
  },
  {
   "cell_type": "markdown",
   "metadata": {},
   "source": [
    "<span style=\"color:blue\"> 7) Report the descriptions of the items associated with the highest lift rule you found in the three queries (you may use any method to do this). Does the rule make sense? </span>"
   ]
  },
  {
   "cell_type": "markdown",
   "metadata": {},
   "source": [
    "Replace stock code by it's description in all association rules, so we have :\n",
    "\n",
    "Case 4-2 : \n",
    "- {22699} -> {22697} (conf: 0.691, supp: 0.029, lift: 18.534, conv: 3.115)\n",
    "\n",
    "==> {ROSES REGENCY TEACUP AND SAUCER} -> {GREEN REGENCY TEACUP AND SAUCER}\n",
    "\n",
    "- {22697} -> {22699} (conf: 0.783, supp: 0.029, lift: 18.534, conv: 4.412)\n",
    "\n",
    "==> {GREEN REGENCY TEACUP AND SAUCER} -> {ROSES REGENCY TEACUP AND SAUCER} \n",
    "\n",
    "Case 4-3 :\n",
    "- {22697, 22699} -> {22698} (conf: 0.721, supp: 0.021, lift: 24.033, conv: 3.475)\n",
    "\n",
    "==> {GREEN REGENCY TEACUP AND SAUCER, ROSES REGENCY TEACUP AND SAUCER} -> {PINK REGENCY TEACUP AND SAUCER}\n",
    "\n",
    "- {22698} -> {22697, 22699} (conf: 0.701, supp: 0.021, lift: 24.033, conv: 3.252)\n",
    "\n",
    "==> {PINK REGENCY TEACUP AND SAUCER} -> {GREEN REGENCY TEACUP AND SAUCER, ROSES REGENCY TEACUP AND SAUCER} \n",
    "\n",
    "Case 4-4 :\n",
    "- {22699} -> {22697} (conf: 0.691, supp: 0.029, lift: 18.534, conv: 3.115)\n",
    "\n",
    "==> {ROSES REGENCY TEACUP AND SAUCER} -> {GREEN REGENCY TEACUP AND SAUCER}\n",
    "\n",
    "- {22697} -> {22699} (conf: 0.783, supp: 0.029, lift: 18.534, conv: 4.412)\n",
    "\n",
    "==> {GREEN REGENCY TEACUP AND SAUCER} -> {ROSES REGENCY TEACUP AND SAUCER}\n",
    "\n",
    "I see all association rules make sense because their lifts are many times greater than 1, so clients have high interest in these rules "
   ]
  },
  {
   "cell_type": "code",
   "execution_count": null,
   "metadata": {},
   "outputs": [],
   "source": []
  }
 ],
 "metadata": {
  "kernelspec": {
   "display_name": "Python 3",
   "language": "python",
   "name": "python3"
  },
  "language_info": {
   "codemirror_mode": {
    "name": "ipython",
    "version": 3
   },
   "file_extension": ".py",
   "mimetype": "text/x-python",
   "name": "python",
   "nbconvert_exporter": "python",
   "pygments_lexer": "ipython3",
   "version": "3.7.9"
  }
 },
 "nbformat": 4,
 "nbformat_minor": 2
}
